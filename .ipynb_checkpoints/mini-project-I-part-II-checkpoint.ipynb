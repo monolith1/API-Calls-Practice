{
 "cells": [
  {
   "cell_type": "markdown",
   "metadata": {},
   "source": [
    "## Movies\n",
    "In this part of mini-project, we need to have our API-KEY ready because this API won't work without it.\n",
    "\n",
    "We encourage you to look for correct endpoints in [the documentation](https://developers.themoviedb.org/3/account). We can also play around with requests there before copying them to Python."
   ]
  },
  {
   "cell_type": "code",
   "execution_count": 39,
   "metadata": {},
   "outputs": [],
   "source": [
    "# import packages we need \n",
    "import requests as re\n",
    "import os\n",
    "from IPython.display import JSON"
   ]
  },
  {
   "cell_type": "code",
   "execution_count": 40,
   "metadata": {},
   "outputs": [],
   "source": [
    "#API Variables\n",
    "root_endpoint = 'https://api.themoviedb.org/3'\n",
    "api_key = os.environ[\"TMDB_AK\"]"
   ]
  },
  {
   "cell_type": "code",
   "execution_count": 41,
   "metadata": {},
   "outputs": [],
   "source": [
    "# search function\n",
    "def api_search(media, query):\n",
    "    \n",
    "    # define endpoint url\n",
    "    endpoint = root_endpoint + f'/search/{media}'\n",
    "    \n",
    "    # send request to API and store response\n",
    "    response = re.get(endpoint,\n",
    "                     params={'query' : query, 'api_key' : api_key})\n",
    "    \n",
    "    # print error code\n",
    "    print(response.status_code)\n",
    "    \n",
    "    # save and return response as a JSON file\n",
    "    result = response.json()\n",
    "    return result"
   ]
  },
  {
   "cell_type": "code",
   "execution_count": 42,
   "metadata": {},
   "outputs": [],
   "source": [
    "# function to get details for particular media\n",
    "def api_details(media, media_id):\n",
    "    endpoint = root_endpoint + f'/{media}/{media_id}'\n",
    "    response = re.get(endpoint, params = {'api_key' : api_key})\n",
    "    print(response.status_code)\n",
    "    result = response.json()\n",
    "    return result"
   ]
  },
  {
   "cell_type": "code",
   "execution_count": 66,
   "metadata": {},
   "outputs": [],
   "source": [
    "# function to find top five of x media\n",
    "def top5(media):\n",
    "    endpoint = root_endpoint + f'/trending/{media}/week'\n",
    "    response = re.get(endpoint, params = {'api_key' : api_key})\n",
    "    print(response.status_code)\n",
    "    result = response.json()\n",
    "\n",
    "    # find the name of the target attribute based on arguments passed\n",
    "    if media == 'tv':\n",
    "        target = 'original_name'\n",
    "    elif media == 'movie':\n",
    "        target = 'original_title'\n",
    "    elif media == 'person':\n",
    "        target = 'name'\n",
    "\n",
    "    # accumulate the top 5 titles and add them to the return list\n",
    "    top5 = []\n",
    "    i = 0\n",
    "    while i < 5:\n",
    "        title = result['results'][i][target]\n",
    "        num = i + 1          # also add a '1. ' etc. to the names/titles\n",
    "        top5.append(f'{num}. {title}')\n",
    "        i += 1\n",
    "    \n",
    "    return top5\n",
    "    #return result"
   ]
  },
  {
   "cell_type": "markdown",
   "metadata": {},
   "source": [
    "## Task\n",
    "Search for you favorite movie and return the information about the movie:\n",
    "- name\n",
    "- release date\n",
    "- runtime\n",
    "- revenue\n",
    "- length of the overview\n",
    "- number of votes\n",
    "- voting average"
   ]
  },
  {
   "cell_type": "code",
   "execution_count": 22,
   "metadata": {},
   "outputs": [
    {
     "name": "stdout",
     "output_type": "stream",
     "text": [
      "200\n"
     ]
    },
    {
     "data": {
      "application/json": {
       "page": 1,
       "results": [
        {
         "adult": false,
         "backdrop_path": "/oHCrUX8WDrxlI5Ztq0LX3Fj0Uf5.jpg",
         "genre_ids": [
          35
         ],
         "id": 11830,
         "original_language": "ja",
         "original_title": "タンポポ",
         "overview": "A pair of truck drivers happen onto a decrepit roadside fast food stop selling ramen noodles. The widowed owner, Tampopo, begs them to help her turn her establishment into a paragon of the \"art of noodle soup making\".",
         "popularity": 6.242,
         "poster_path": "/2XLDb3RDQmtlxt5Snnig9W4moq4.jpg",
         "release_date": "1985-11-23",
         "title": "Tampopo",
         "video": false,
         "vote_average": 7.9,
         "vote_count": 199
        },
        {
         "adult": false,
         "backdrop_path": "/2HfjNHZKTMQx7z14nlxoWMWFpKA.jpg",
         "genre_ids": [
          18,
          10749
         ],
         "id": 72136,
         "original_language": "ja",
         "original_title": "ヴィヨンの妻 / ヴィヨンの妻　～桜桃とタンポポ～",
         "overview": "This enticing period melodrama depicts a long-suffering woman's relationship with her brilliant but self-destructive writer husband in postwar Tokyo. Based on a semi-autobiographical 1947 novel by Osamu Dazai, the story centers less on the womanizing, heavy-drinking, suicidal hero than on the wife who loves him. Written by Palm Springs International Film Festival",
         "popularity": 2.334,
         "poster_path": "/x4kP6PWtHZ3dSxKSDaxKaBqqWbJ.jpg",
         "release_date": "2009-10-10",
         "title": "Villon's Wife",
         "video": false,
         "vote_average": 6.6,
         "vote_count": 9
        }
       ],
       "total_pages": 1,
       "total_results": 2
      },
      "text/plain": [
       "<IPython.core.display.JSON object>"
      ]
     },
     "execution_count": 22,
     "metadata": {
      "application/json": {
       "expanded": false,
       "root": "root"
      }
     },
     "output_type": "execute_result"
    }
   ],
   "source": [
    "# run the search function and inspect results\n",
    "movie_result = api_search('movie', 'タンポポ')\n",
    "JSON(movie_result)"
   ]
  },
  {
   "cell_type": "code",
   "execution_count": 23,
   "metadata": {},
   "outputs": [],
   "source": [
    "# get id from results\n",
    "movie_id = movie_result['results'][0]['id']"
   ]
  },
  {
   "cell_type": "code",
   "execution_count": 24,
   "metadata": {},
   "outputs": [
    {
     "name": "stdout",
     "output_type": "stream",
     "text": [
      "200\n"
     ]
    },
    {
     "data": {
      "application/json": {
       "adult": false,
       "backdrop_path": "/oHCrUX8WDrxlI5Ztq0LX3Fj0Uf5.jpg",
       "belongs_to_collection": null,
       "budget": 0,
       "genres": [
        {
         "id": 35,
         "name": "Comedy"
        }
       ],
       "homepage": "",
       "id": 11830,
       "imdb_id": "tt0092048",
       "original_language": "ja",
       "original_title": "タンポポ",
       "overview": "A pair of truck drivers happen onto a decrepit roadside fast food stop selling ramen noodles. The widowed owner, Tampopo, begs them to help her turn her establishment into a paragon of the \"art of noodle soup making\".",
       "popularity": 6.242,
       "poster_path": "/2XLDb3RDQmtlxt5Snnig9W4moq4.jpg",
       "production_companies": [
        {
         "id": 13255,
         "logo_path": null,
         "name": "New Century Producers",
         "origin_country": "JP"
        },
        {
         "id": 64128,
         "logo_path": null,
         "name": "Itami Productions",
         "origin_country": "JP"
        }
       ],
       "production_countries": [
        {
         "iso_3166_1": "JP",
         "name": "Japan"
        }
       ],
       "release_date": "1985-11-23",
       "revenue": 0,
       "runtime": 115,
       "spoken_languages": [
        {
         "english_name": "Japanese",
         "iso_639_1": "ja",
         "name": "日本語"
        }
       ],
       "status": "Released",
       "tagline": "The first Japanese Noodle Western.",
       "title": "Tampopo",
       "video": false,
       "vote_average": 7.9,
       "vote_count": 199
      },
      "text/plain": [
       "<IPython.core.display.JSON object>"
      ]
     },
     "execution_count": 24,
     "metadata": {
      "application/json": {
       "expanded": false,
       "root": "root"
      }
     },
     "output_type": "execute_result"
    }
   ],
   "source": [
    "# run details function and inspect results\n",
    "movie_details = api_details('movie',movie_id)\n",
    "JSON(movie_details)"
   ]
  },
  {
   "cell_type": "code",
   "execution_count": null,
   "metadata": {},
   "outputs": [],
   "source": [
    "# solve for requested variables\n",
    "name =\n",
    "release = \n",
    "runtime = \n",
    "revenue = \n",
    "ov_length = \n",
    "votenum = \n",
    "voteavg = "
   ]
  },
  {
   "cell_type": "markdown",
   "metadata": {},
   "source": [
    "## Task\n",
    "Search for you favorite actor/actress and return the information about him/her:\n",
    "- name\n",
    "- date of birth\n",
    "- place of birth\n",
    "- length of the biography"
   ]
  },
  {
   "cell_type": "code",
   "execution_count": null,
   "metadata": {},
   "outputs": [],
   "source": []
  },
  {
   "cell_type": "code",
   "execution_count": null,
   "metadata": {},
   "outputs": [],
   "source": []
  },
  {
   "cell_type": "code",
   "execution_count": null,
   "metadata": {},
   "outputs": [],
   "source": []
  },
  {
   "cell_type": "markdown",
   "metadata": {},
   "source": [
    "## Task\n",
    "Search for you favorite tv-show and return the information about it:\n",
    "- name\n",
    "- first air date\n",
    "- number of seasons\n",
    "- number of episodes\n",
    "- genres"
   ]
  },
  {
   "cell_type": "code",
   "execution_count": null,
   "metadata": {},
   "outputs": [],
   "source": []
  },
  {
   "cell_type": "code",
   "execution_count": null,
   "metadata": {},
   "outputs": [],
   "source": []
  },
  {
   "cell_type": "code",
   "execution_count": null,
   "metadata": {},
   "outputs": [],
   "source": []
  },
  {
   "cell_type": "markdown",
   "metadata": {},
   "source": [
    "## Task \n",
    "Find top 5 trending:\n",
    "- movies\n",
    "- tv-shows\n",
    "- people"
   ]
  },
  {
   "cell_type": "code",
   "execution_count": 67,
   "metadata": {},
   "outputs": [
    {
     "name": "stdout",
     "output_type": "stream",
     "text": [
      "200\n",
      "['1. Dune', '2. Venom: Let There Be Carnage', '3. After We Fell', '4. Halloween Kills', '5. Free Guy']\n"
     ]
    }
   ],
   "source": [
    "print(top5('movie'))"
   ]
  },
  {
   "cell_type": "code",
   "execution_count": 68,
   "metadata": {},
   "outputs": [
    {
     "name": "stdout",
     "output_type": "stream",
     "text": [
      "200\n",
      "['1. 오징어 게임', '2. Chucky', '3. Invasion', '4. La Casa de Papel', '5. You']\n"
     ]
    }
   ],
   "source": [
    "print(top5('tv'))"
   ]
  },
  {
   "cell_type": "code",
   "execution_count": 69,
   "metadata": {},
   "outputs": [
    {
     "name": "stdout",
     "output_type": "stream",
     "text": [
      "200\n",
      "['1. Noomi Rapace', '2. Jackie Chan', '3. Alec Baldwin', '4. Tom Hanks', '5. Bruce Willis']\n"
     ]
    }
   ],
   "source": [
    "print(top5('person'))"
   ]
  },
  {
   "cell_type": "code",
   "execution_count": null,
   "metadata": {},
   "outputs": [],
   "source": []
  }
 ],
 "metadata": {
  "kernelspec": {
   "display_name": "lhl_env",
   "language": "python",
   "name": "lhl_env"
  },
  "language_info": {
   "codemirror_mode": {
    "name": "ipython",
    "version": 3
   },
   "file_extension": ".py",
   "mimetype": "text/x-python",
   "name": "python",
   "nbconvert_exporter": "python",
   "pygments_lexer": "ipython3",
   "version": "3.8.12"
  }
 },
 "nbformat": 4,
 "nbformat_minor": 4
}
