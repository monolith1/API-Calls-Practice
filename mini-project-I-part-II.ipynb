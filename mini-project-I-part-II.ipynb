{
 "cells": [
  {
   "cell_type": "markdown",
   "metadata": {},
   "source": [
    "## Movies\n",
    "In this part of mini-project, we need to have our API-KEY ready because this API won't work without it.\n",
    "\n",
    "We encourage you to look for correct endpoints in [the documentation](https://developers.themoviedb.org/3/account). We can also play around with requests there before copying them to Python."
   ]
  },
  {
   "cell_type": "code",
   "execution_count": 3,
   "metadata": {},
   "outputs": [],
   "source": [
    "# import packages we need \n",
    "import requests as re\n",
    "import os\n",
    "from IPython.display import JSON"
   ]
  },
  {
   "cell_type": "code",
   "execution_count": 4,
   "metadata": {},
   "outputs": [],
   "source": [
    "#API Variables\n",
    "root_endpoint = 'https://api.themoviedb.org/3'\n",
    "api_key = os.environ[\"TMDB_AK\"]"
   ]
  },
  {
   "cell_type": "code",
   "execution_count": 5,
   "metadata": {},
   "outputs": [],
   "source": [
    "# search function\n",
    "def api_search(media, query):\n",
    "    \n",
    "    # define endpoint url\n",
    "    endpoint = root_endpoint + f'/search/{media}'\n",
    "    \n",
    "    # send request to API and store response\n",
    "    response = re.get(endpoint,\n",
    "                     params={'query' : query, 'api_key' : api_key})\n",
    "    \n",
    "    # print error code\n",
    "    print(response.status_code)\n",
    "    \n",
    "    # save and return response as a JSON file\n",
    "    result = response.json()\n",
    "    return result"
   ]
  },
  {
   "cell_type": "code",
   "execution_count": 6,
   "metadata": {},
   "outputs": [],
   "source": [
    "# function to get details for particular media\n",
    "def api_details(media, media_id):\n",
    "    endpoint = root_endpoint + f'/{media}/{media_id}'\n",
    "    response = re.get(endpoint, params = {'api_key' : api_key})\n",
    "    print(response.status_code)\n",
    "    result = response.json()\n",
    "    return result"
   ]
  },
  {
   "cell_type": "code",
   "execution_count": 19,
   "metadata": {},
   "outputs": [],
   "source": [
    "# function to find top five of x media\n",
    "def top5(media, time):\n",
    "    endpoint = root_endpoint + f'/trending/{media}/{time}'\n",
    "    response = re.get(endpoint, params = {'api_key' : api_key})\n",
    "    print(response.status_code)\n",
    "    result = response.json()\n",
    "\n",
    "    # find the name of the target attribute based on arguments passed\n",
    "    if media == 'tv':\n",
    "        target = 'original_name'\n",
    "    elif media == 'movie':\n",
    "        target = 'original_title'\n",
    "    elif media == 'person':\n",
    "        target = 'name'\n",
    "\n",
    "    # accumulate the top 5 titles and add them to the return list\n",
    "    top5 = []\n",
    "    i = 0\n",
    "    while i < 5:\n",
    "        title = result['results'][i][target]\n",
    "        top5.append(title)\n",
    "        i += 1\n",
    "    \n",
    "    return top5\n",
    "    #return result"
   ]
  },
  {
   "cell_type": "markdown",
   "metadata": {},
   "source": [
    "## Task\n",
    "Search for you favorite movie and return the information about the movie:\n",
    "- name\n",
    "- release date\n",
    "- runtime\n",
    "- revenue\n",
    "- length of the overview\n",
    "- number of votes\n",
    "- voting average"
   ]
  },
  {
   "cell_type": "code",
   "execution_count": 40,
   "metadata": {},
   "outputs": [
    {
     "name": "stdout",
     "output_type": "stream",
     "text": [
      "200\n"
     ]
    },
    {
     "data": {
      "application/json": {
       "page": 1,
       "results": [
        {
         "adult": false,
         "backdrop_path": "/oHCrUX8WDrxlI5Ztq0LX3Fj0Uf5.jpg",
         "genre_ids": [
          35
         ],
         "id": 11830,
         "original_language": "ja",
         "original_title": "タンポポ",
         "overview": "A pair of truck drivers happen onto a decrepit roadside fast food stop selling ramen noodles. The widowed owner, Tampopo, begs them to help her turn her establishment into a paragon of the \"art of noodle soup making\".",
         "popularity": 6.242,
         "poster_path": "/2XLDb3RDQmtlxt5Snnig9W4moq4.jpg",
         "release_date": "1985-11-23",
         "title": "Tampopo",
         "video": false,
         "vote_average": 7.9,
         "vote_count": 199
        },
        {
         "adult": false,
         "backdrop_path": "/2HfjNHZKTMQx7z14nlxoWMWFpKA.jpg",
         "genre_ids": [
          18,
          10749
         ],
         "id": 72136,
         "original_language": "ja",
         "original_title": "ヴィヨンの妻 / ヴィヨンの妻　～桜桃とタンポポ～",
         "overview": "This enticing period melodrama depicts a long-suffering woman's relationship with her brilliant but self-destructive writer husband in postwar Tokyo. Based on a semi-autobiographical 1947 novel by Osamu Dazai, the story centers less on the womanizing, heavy-drinking, suicidal hero than on the wife who loves him. Written by Palm Springs International Film Festival",
         "popularity": 2.334,
         "poster_path": "/x4kP6PWtHZ3dSxKSDaxKaBqqWbJ.jpg",
         "release_date": "2009-10-10",
         "title": "Villon's Wife",
         "video": false,
         "vote_average": 6.6,
         "vote_count": 9
        }
       ],
       "total_pages": 1,
       "total_results": 2
      },
      "text/plain": [
       "<IPython.core.display.JSON object>"
      ]
     },
     "execution_count": 40,
     "metadata": {
      "application/json": {
       "expanded": false,
       "root": "root"
      }
     },
     "output_type": "execute_result"
    }
   ],
   "source": [
    "# run the search function and inspect results\n",
    "movie_result = api_search('movie', 'タンポポ')\n",
    "JSON(movie_result)"
   ]
  },
  {
   "cell_type": "code",
   "execution_count": 41,
   "metadata": {},
   "outputs": [],
   "source": [
    "# get id from results\n",
    "movie_id = movie_result['results'][0]['id']"
   ]
  },
  {
   "cell_type": "code",
   "execution_count": 42,
   "metadata": {},
   "outputs": [
    {
     "name": "stdout",
     "output_type": "stream",
     "text": [
      "200\n"
     ]
    },
    {
     "data": {
      "application/json": {
       "adult": false,
       "backdrop_path": "/oHCrUX8WDrxlI5Ztq0LX3Fj0Uf5.jpg",
       "belongs_to_collection": null,
       "budget": 0,
       "genres": [
        {
         "id": 35,
         "name": "Comedy"
        }
       ],
       "homepage": "",
       "id": 11830,
       "imdb_id": "tt0092048",
       "original_language": "ja",
       "original_title": "タンポポ",
       "overview": "A pair of truck drivers happen onto a decrepit roadside fast food stop selling ramen noodles. The widowed owner, Tampopo, begs them to help her turn her establishment into a paragon of the \"art of noodle soup making\".",
       "popularity": 6.242,
       "poster_path": "/2XLDb3RDQmtlxt5Snnig9W4moq4.jpg",
       "production_companies": [
        {
         "id": 13255,
         "logo_path": null,
         "name": "New Century Producers",
         "origin_country": "JP"
        },
        {
         "id": 64128,
         "logo_path": null,
         "name": "Itami Productions",
         "origin_country": "JP"
        }
       ],
       "production_countries": [
        {
         "iso_3166_1": "JP",
         "name": "Japan"
        }
       ],
       "release_date": "1985-11-23",
       "revenue": 0,
       "runtime": 115,
       "spoken_languages": [
        {
         "english_name": "Japanese",
         "iso_639_1": "ja",
         "name": "日本語"
        }
       ],
       "status": "Released",
       "tagline": "The first Japanese Noodle Western.",
       "title": "Tampopo",
       "video": false,
       "vote_average": 7.9,
       "vote_count": 199
      },
      "text/plain": [
       "<IPython.core.display.JSON object>"
      ]
     },
     "execution_count": 42,
     "metadata": {
      "application/json": {
       "expanded": false,
       "root": "root"
      }
     },
     "output_type": "execute_result"
    }
   ],
   "source": [
    "# run details function and inspect results\n",
    "movie_details = api_details('movie',movie_id)\n",
    "JSON(movie_details)"
   ]
  },
  {
   "cell_type": "code",
   "execution_count": 43,
   "metadata": {},
   "outputs": [
    {
     "name": "stdout",
     "output_type": "stream",
     "text": [
      "Movie Name: タンポポ\n",
      "Release Date: 1985-11-23\n",
      "Runtime: 115\n",
      "Revenue: 0\n",
      "Overview Length: 217\n",
      "Number of Votes: 199\n",
      "Vote Average: 7.9\n",
      "\n"
     ]
    }
   ],
   "source": [
    "# solve for requested variables\n",
    "name = movie_details['original_title']\n",
    "release = movie_details['release_date']\n",
    "runtime = movie_details['runtime']\n",
    "revenue = movie_details['revenue']\n",
    "ov_length = len(movie_details['overview'])\n",
    "votenum = movie_result['results'][0]['vote_count']\n",
    "voteavg = movie_result['results'][0]['vote_average']\n",
    "\n",
    "# print requested info to console\n",
    "print(f'''Movie Name: {name}\n",
    "Release Date: {release}\n",
    "Runtime: {runtime}\n",
    "Revenue: {revenue}\n",
    "Overview Length: {ov_length}\n",
    "Number of Votes: {votenum}\n",
    "Vote Average: {voteavg}\n",
    "''')"
   ]
  },
  {
   "cell_type": "markdown",
   "metadata": {},
   "source": [
    "## Task\n",
    "Search for you favorite actor/actress and return the information about him/her:\n",
    "- name\n",
    "- date of birth\n",
    "- place of birth\n",
    "- length of the biography"
   ]
  },
  {
   "cell_type": "code",
   "execution_count": 44,
   "metadata": {},
   "outputs": [
    {
     "name": "stdout",
     "output_type": "stream",
     "text": [
      "200\n"
     ]
    },
    {
     "data": {
      "application/json": {
       "page": 1,
       "results": [
        {
         "adult": false,
         "gender": 2,
         "id": 52813,
         "known_for": [
          {
           "adult": false,
           "backdrop_path": "/xaM1BFBw2SiiQHyieLlD26s0MPb.jpg",
           "genre_ids": [
            28,
            80
           ],
           "id": 10173,
           "media_type": "movie",
           "original_language": "en",
           "original_title": "Marked for Death",
           "overview": "Just retired from the Drug Enforcement Agency, John Hatcher returns to his hometown and quickly discovers that drugs have infiltrated his old neighborhood. Determined to drive the dealers out, Hatcher crosses paths with a ferocious Jamaican drug lord who vows that Hatcher and his family are now marked for death.",
           "poster_path": "/xYaetJsSm5FC1zxhdW8UR1NVXzc.jpg",
           "release_date": "1990-10-05",
           "title": "Marked for Death",
           "video": false,
           "vote_average": 6,
           "vote_count": 349
          },
          {
           "backdrop_path": "/yYaxXMbobcB7PIM6XljZZk2x4FQ.jpg",
           "first_air_date": "1975-10-11",
           "genre_ids": [
            35,
            10763
           ],
           "id": 1667,
           "media_type": "tv",
           "name": "Saturday Night Live",
           "origin_country": [
            "US"
           ],
           "original_language": "en",
           "original_name": "Saturday Night Live",
           "overview": "A late-night live television sketch comedy and variety show created by Lorne Michaels. The show's comedy sketches, which parody contemporary culture and politics, are performed by a large and varying cast of repertory and newer cast members. Each episode is hosted by a celebrity guest, who usually delivers an opening monologue and performs in sketches with the cast, and features performances by a musical guest.",
           "poster_path": "/bfiBW2qtdPEdcDOhYGNiP8XX8ok.jpg",
           "vote_average": 6.9,
           "vote_count": 280
          },
          {
           "adult": false,
           "backdrop_path": "/qJgcxChqgCzimICe2fkOHog6wF1.jpg",
           "genre_ids": [
            10402,
            99
           ],
           "id": 90125,
           "media_type": "movie",
           "original_language": "en",
           "original_title": "Marley",
           "overview": "Bob Marley's universal appeal, impact on music history and role as a social and political prophet is both unique and unparalleled. Directed by Academy Award-winning director Kevin Macdonald (The Last King of Scotland), MARLEY is the definitive life story of the musician, revolutionary, and legend, from his early days to his rise to international superstardom. Made with the support of the Marley family, the film features rare footage, incredible performances and revelatory interviews with the people that knew him best.",
           "poster_path": "/sL12SuW486PvLQIboVJOMx1AsmS.jpg",
           "release_date": "2012-04-20",
           "title": "Marley",
           "video": false,
           "vote_average": 7.6,
           "vote_count": 196
          }
         ],
         "known_for_department": "Acting",
         "name": "Jimmy Cliff",
         "popularity": 1.008,
         "profile_path": "/lgMdCd4lMBQxNrjOTnrNx2SrAJz.jpg"
        }
       ],
       "total_pages": 1,
       "total_results": 1
      },
      "text/plain": [
       "<IPython.core.display.JSON object>"
      ]
     },
     "execution_count": 44,
     "metadata": {
      "application/json": {
       "expanded": false,
       "root": "root"
      }
     },
     "output_type": "execute_result"
    }
   ],
   "source": [
    "# run the search function and inspect results\n",
    "person_result = api_search('person', 'Jimmy Cliff')\n",
    "JSON(person_result)"
   ]
  },
  {
   "cell_type": "code",
   "execution_count": 45,
   "metadata": {},
   "outputs": [],
   "source": [
    "# get id from results\n",
    "person_id = person_result['results'][0]['id']"
   ]
  },
  {
   "cell_type": "code",
   "execution_count": 46,
   "metadata": {},
   "outputs": [
    {
     "name": "stdout",
     "output_type": "stream",
     "text": [
      "200\n"
     ]
    },
    {
     "data": {
      "application/json": {
       "adult": false,
       "also_known_as": [
        "James Chambers"
       ],
       "biography": "From Wikipedia, the free encyclopedia.\n\nThe Honourable Jimmy Cliff, OM (born James Chambers; 1 April 1948) is a Jamaican ska and reggae singer, musician, and actor. He is the only currently living musician to hold the Order of Merit, the highest honour that can be granted by the Jamaican government for achievement in the arts and sciences. He is best known among mainstream audiences for songs such as \"Sitting in Limbo,\" \"You Can Get It If You Really Want,\" and \"Many Rivers to Cross\" from the soundtrack to The Harder They Come, which helped popularize reggae across the world; and his covers of Cat Stevens' \"Wild World\" and Johnny Nash's \"I Can See Clearly Now\" from the film Cool Runnings. Outside of the reggae world, he is probably best known for his film appearance in The Harder They Come. Jimmy Cliff was one of five performers inducted into the Rock and Roll Hall of Fame in 2010.\n\nDescription above from the Wikipedia article Jimmy Cliff, licensed under CC-BY-SA, full list of contributors on Wikipedia.",
       "birthday": "1948-04-01",
       "deathday": null,
       "gender": 2,
       "homepage": null,
       "id": 52813,
       "imdb_id": "nm0166580",
       "known_for_department": "Acting",
       "name": "Jimmy Cliff",
       "place_of_birth": "Somerton district of St. James, Jamaica",
       "popularity": 1.008,
       "profile_path": "/lgMdCd4lMBQxNrjOTnrNx2SrAJz.jpg"
      },
      "text/plain": [
       "<IPython.core.display.JSON object>"
      ]
     },
     "execution_count": 46,
     "metadata": {
      "application/json": {
       "expanded": false,
       "root": "root"
      }
     },
     "output_type": "execute_result"
    }
   ],
   "source": [
    "# run details function and inspect results\n",
    "person_details = api_details('person',person_id)\n",
    "JSON(person_details)"
   ]
  },
  {
   "cell_type": "code",
   "execution_count": 47,
   "metadata": {},
   "outputs": [
    {
     "name": "stdout",
     "output_type": "stream",
     "text": [
      "Name: Jimmy Cliff\n",
      "Date of Birth: 1948-04-01\n",
      "Place of Birth: Somerton district of St. James, Jamaica\n",
      "Length of Bio: 1017\n",
      "\n"
     ]
    }
   ],
   "source": [
    "# solve for requested variables\n",
    "name = person_details['name']\n",
    "dob = person_details['birthday']\n",
    "pob = person_details['place_of_birth']\n",
    "biolen = len(person_details['biography'])\n",
    "\n",
    "\n",
    "# print requested info to console\n",
    "print(f'''Name: {name}\n",
    "Date of Birth: {dob}\n",
    "Place of Birth: {pob}\n",
    "Length of Bio: {biolen}\n",
    "''')"
   ]
  },
  {
   "cell_type": "markdown",
   "metadata": {},
   "source": [
    "## Task\n",
    "Search for you favorite tv-show and return the information about it:\n",
    "- name\n",
    "- first air date\n",
    "- number of seasons\n",
    "- number of episodes\n",
    "- genres"
   ]
  },
  {
   "cell_type": "code",
   "execution_count": 48,
   "metadata": {},
   "outputs": [
    {
     "name": "stdout",
     "output_type": "stream",
     "text": [
      "200\n"
     ]
    },
    {
     "data": {
      "application/json": {
       "page": 1,
       "results": [
        {
         "backdrop_path": "/3ltpFyIfAtGjRMRJdECFoQQCfzx.jpg",
         "first_air_date": "1999-01-10",
         "genre_ids": [
          18
         ],
         "id": 1398,
         "name": "The Sopranos",
         "origin_country": [
          "US"
         ],
         "original_language": "en",
         "original_name": "The Sopranos",
         "overview": "The story of New Jersey-based Italian-American mobster Tony Soprano and the difficulties he faces as he tries to balance the conflicting requirements of his home life and the criminal organization he heads. Those difficulties are often highlighted through his ongoing professional relationship with psychiatrist Jennifer Melfi. The show features Tony's family members and Mafia associates in prominent roles and story arcs, most notably his wife Carmela and his cousin and protégé Christopher Moltisanti.",
         "popularity": 139.363,
         "poster_path": "/57okJJUBK0AaijxLh3RjNUaMvFI.jpg",
         "vote_average": 8.5,
         "vote_count": 1555
        }
       ],
       "total_pages": 1,
       "total_results": 1
      },
      "text/plain": [
       "<IPython.core.display.JSON object>"
      ]
     },
     "execution_count": 48,
     "metadata": {
      "application/json": {
       "expanded": false,
       "root": "root"
      }
     },
     "output_type": "execute_result"
    }
   ],
   "source": [
    "# run the search function and inspect results\n",
    "tv_result = api_search('tv', 'Sopranos')\n",
    "JSON(tv_result)"
   ]
  },
  {
   "cell_type": "code",
   "execution_count": 49,
   "metadata": {},
   "outputs": [],
   "source": [
    "# get id from results\n",
    "tv_id = tv_result['results'][0]['id']"
   ]
  },
  {
   "cell_type": "code",
   "execution_count": 50,
   "metadata": {},
   "outputs": [
    {
     "name": "stdout",
     "output_type": "stream",
     "text": [
      "200\n"
     ]
    },
    {
     "data": {
      "application/json": {
       "backdrop_path": "/3ltpFyIfAtGjRMRJdECFoQQCfzx.jpg",
       "created_by": [
        {
         "credit_id": "5256c88b19c2956ff6046812",
         "gender": 2,
         "id": 99898,
         "name": "David Chase",
         "profile_path": null
        }
       ],
       "episode_run_time": [
        60,
        50
       ],
       "first_air_date": "1999-01-10",
       "genres": [
        {
         "id": 18,
         "name": "Drama"
        }
       ],
       "homepage": "http://www.hbo.com/sopranos/",
       "id": 1398,
       "in_production": false,
       "languages": [
        "en"
       ],
       "last_air_date": "2007-06-10",
       "last_episode_to_air": {
        "air_date": "2007-06-10",
        "episode_number": 21,
        "id": 63055,
        "name": "Made in America",
        "overview": "Tony seeks to find a peace with the Leotardo crew while dealing with rumors a member of his own crew may have flipped. A.J. makes a decision regarding his future and Junior's slide into dementia continues.",
        "production_code": "621",
        "season_number": 6,
        "still_path": "/7PnsVHIZEw5YB1qegg2leAIjKnx.jpg",
        "vote_average": 7.8,
        "vote_count": 15
       },
       "name": "The Sopranos",
       "networks": [
        {
         "id": 49,
         "logo_path": "/tuomPhY2UtuPTqqFnKMVHvSb724.png",
         "name": "HBO",
         "origin_country": "US"
        }
       ],
       "next_episode_to_air": null,
       "number_of_episodes": 86,
       "number_of_seasons": 6,
       "origin_country": [
        "US"
       ],
       "original_language": "en",
       "original_name": "The Sopranos",
       "overview": "The story of New Jersey-based Italian-American mobster Tony Soprano and the difficulties he faces as he tries to balance the conflicting requirements of his home life and the criminal organization he heads. Those difficulties are often highlighted through his ongoing professional relationship with psychiatrist Jennifer Melfi. The show features Tony's family members and Mafia associates in prominent roles and story arcs, most notably his wife Carmela and his cousin and protégé Christopher Moltisanti.",
       "popularity": 139.363,
       "poster_path": "/57okJJUBK0AaijxLh3RjNUaMvFI.jpg",
       "production_companies": [],
       "production_countries": [
        {
         "iso_3166_1": "US",
         "name": "United States of America"
        }
       ],
       "seasons": [
        {
         "air_date": "2007-01-01",
         "episode_count": 6,
         "id": 3623,
         "name": "Specials",
         "overview": "",
         "poster_path": "/kvasNmTeZd6YwjhZASAHlijeVi9.jpg",
         "season_number": 0
        },
        {
         "air_date": "1999-01-10",
         "episode_count": 13,
         "id": 3617,
         "name": "Season 1",
         "overview": "In Season 1, feeling his handle on his family and his business slipping away, mob boss Tony Soprano suffers a series of anxiety attacks that land him in the office of a psychiatrist. Opening up to his shrink, Tony relates the details of his life as a “waste-management consultant,” and tries to come to terms with the professional and private strains that have brought him to the brink of a breakdown.",
         "poster_path": "/3NsJzafk0Sp7yE9yShzQsybHw4x.jpg",
         "season_number": 1
        },
        {
         "air_date": "2000-01-16",
         "episode_count": 13,
         "id": 3618,
         "name": "Season 2",
         "overview": "His uncle's in jail. His mother's in the hospital. His best friend's still missing. His sister's moving home. His panic attacks are back. And his shrink refuses to see him. Tony Soprano has recently been elevated to the status of mob boss following a federal bust and as the second season picks up, Tony is under more stress than ever as he deals with the demands of his new position. Making matters worse, his long-lost sister Janice has arrived to take care of their ailing mother.",
         "poster_path": "/wvCOKWM1abB5CfuWKqDYeMRV3lN.jpg",
         "season_number": 2
        },
        {
         "air_date": "2001-03-04",
         "episode_count": 13,
         "id": 3619,
         "name": "Season 3",
         "overview": "In season three, the federal wiretap begins and Meadow goes to college. Tony faces challenges from some tough newcomers, such as hothead Ralph Cifaretto, New York crime boss Johnny Sack and a sexy car saleswoman.",
         "poster_path": "/zFuz2PgkHDr9Lx5YAEmiWbXKCio.jpg",
         "season_number": 3
        },
        {
         "air_date": "2002-09-15",
         "episode_count": 13,
         "id": 3620,
         "name": "Season 4",
         "overview": "With Paulie in jail, Christopher becomes acting capo in season four. Junior faces a RICO trial while Tony finds that the recession affects his businesses. Meanwhile, Furio catches Carmela's eye, and Janice sets her sights on Bobby.",
         "poster_path": "/q01fVFY7rQEMMnexa9Urv7NOdKO.jpg",
         "season_number": 4
        },
        {
         "air_date": "2004-03-07",
         "episode_count": 13,
         "id": 3621,
         "name": "Season 5",
         "overview": "In season five, a separated Tony and Carmela negotiate family and money issues. Meanwhile, Tony's reunion with paroled cousin Tony Blundetto may endanger his alliance with Johnny Sack; and Adriana gets in deeper with the Feds.",
         "poster_path": "/p651eYM0Vd0CWDvndbMyaS0lDeD.jpg",
         "season_number": 5
        },
        {
         "air_date": "2006-03-12",
         "episode_count": 21,
         "id": 3622,
         "name": "Season 6",
         "overview": "As the final episodes take shape, Tony faces a myriad of stress-inducing crises at home, at work, and from the law. While his wife and children each make choices that promise to change the face of the Sopranos' domestic life, Tony also comes to doubt the allegiances of some of those closest to him at work . . . none of whom is above suspicion.",
         "poster_path": "/b1P9PAUI18mb62N0DtHOd71L3CT.jpg",
         "season_number": 6
        }
       ],
       "spoken_languages": [
        {
         "english_name": "English",
         "iso_639_1": "en",
         "name": "English"
        }
       ],
       "status": "Ended",
       "tagline": "There's no getting out.",
       "type": "Scripted",
       "vote_average": 8.5,
       "vote_count": 1556
      },
      "text/plain": [
       "<IPython.core.display.JSON object>"
      ]
     },
     "execution_count": 50,
     "metadata": {
      "application/json": {
       "expanded": false,
       "root": "root"
      }
     },
     "output_type": "execute_result"
    }
   ],
   "source": [
    "# run details function and inspect results\n",
    "tv_details = api_details('tv', tv_id)\n",
    "JSON(tv_details)"
   ]
  },
  {
   "cell_type": "code",
   "execution_count": 51,
   "metadata": {},
   "outputs": [
    {
     "name": "stdout",
     "output_type": "stream",
     "text": [
      "Name: The Sopranos\n",
      "First Air Date: 1999-01-10\n",
      "Number of Seasons: 6\n",
      "Number of Episodes: 86\n",
      "Genres: ['Drama']\n",
      "\n"
     ]
    }
   ],
   "source": [
    "# solve for requested variables\n",
    "name = tv_details['name']\n",
    "firstair = tv_details['first_air_date']\n",
    "seasons = tv_details['number_of_seasons']\n",
    "episodes = tv_details['number_of_episodes']\n",
    "\n",
    "# solve for genres\n",
    "genres = []\n",
    "for genre in tv_details['genres']:\n",
    "    genres.append(genre['name'])\n",
    "\n",
    "# print requested info to console\n",
    "print(f'''Name: {name}\n",
    "First Air Date: {firstair}\n",
    "Number of Seasons: {seasons}\n",
    "Number of Episodes: {episodes}\n",
    "Genres: {genres}\n",
    "''')"
   ]
  },
  {
   "cell_type": "markdown",
   "metadata": {},
   "source": [
    "## Task \n",
    "Find top 5 trending:\n",
    "- movies\n",
    "- tv-shows\n",
    "- people"
   ]
  },
  {
   "cell_type": "code",
   "execution_count": 8,
   "metadata": {},
   "outputs": [
    {
     "name": "stdout",
     "output_type": "stream",
     "text": [
      "200\n",
      "['1. Dune', '2. Venom: Let There Be Carnage', '3. After We Fell', '4. Halloween Kills', '5. Free Guy']\n"
     ]
    }
   ],
   "source": [
    "# run the top5 function and display results\n",
    "top5_movie = top5('movie', 'week')\n",
    "print(top5_movie)"
   ]
  },
  {
   "cell_type": "code",
   "execution_count": 9,
   "metadata": {},
   "outputs": [
    {
     "name": "stdout",
     "output_type": "stream",
     "text": [
      "200\n",
      "['1. 오징어 게임', '2. Invasion', '3. Chucky', '4. La Casa de Papel', '5. You']\n"
     ]
    }
   ],
   "source": [
    "# run the top5 function and display results\n",
    "top5_tv = top5('tv', 'week')\n",
    "print(top5_tv)"
   ]
  },
  {
   "cell_type": "code",
   "execution_count": 10,
   "metadata": {},
   "outputs": [
    {
     "name": "stdout",
     "output_type": "stream",
     "text": [
      "200\n",
      "['1. Noomi Rapace', '2. Jackie Chan', '3. Tom Hanks', '4. Alec Baldwin', '5. Bruce Willis']\n"
     ]
    }
   ],
   "source": [
    "# run the top5 function and display results\n",
    "top5_person = top5('person','week')\n",
    "print(top5_person)"
   ]
  },
  {
   "cell_type": "markdown",
   "metadata": {},
   "source": [
    "***\n",
    "## Comparative Sentiment Preview"
   ]
  },
  {
   "cell_type": "markdown",
   "metadata": {},
   "source": [
    "Compare rising daily and weekly for various media in order to see what items may be seeing an increase or a decrease in sentiment"
   ]
  },
  {
   "cell_type": "code",
   "execution_count": 29,
   "metadata": {},
   "outputs": [],
   "source": [
    "# Define function to compare trending media between daily and weekly trends\n",
    "def top5_compare(media):\n",
    "    \n",
    "    # Perform API calls using top5() function defined earlier\n",
    "    top5_day = top5(media, 'day')\n",
    "    top5_wk = top5(media, 'week')\n",
    "    \n",
    "    # Compare results by using set difference operation\n",
    "    rising = list(set(top5_day) - set(top5_wk))\n",
    "    sinking = list(set(top5_wk) - set(top5_day))\n",
    "    \n",
    "    # Print results to console\n",
    "    print(f'''Items that may be rising in sentiment include: {rising}\n",
    "    Items that may be diminishing in sentiment include: {sinking}\n",
    "    ''')\n",
    "    \n",
    "    # Return dictionary of results\n",
    "    return {'rising' : rising, 'sinking' : sinking}"
   ]
  },
  {
   "cell_type": "code",
   "execution_count": 30,
   "metadata": {},
   "outputs": [
    {
     "name": "stdout",
     "output_type": "stream",
     "text": [
      "200\n",
      "200\n",
      "Items that may be rising in sentiment include: ['Army of Thieves', 'Hypnotic']\n",
      "    Items that may be diminishing in sentiment include: ['Halloween Kills', 'Free Guy']\n",
      "    \n"
     ]
    },
    {
     "data": {
      "text/plain": [
       "{'rising': ['Army of Thieves', 'Hypnotic'],\n",
       " 'sinking': ['Halloween Kills', 'Free Guy']}"
      ]
     },
     "execution_count": 30,
     "metadata": {},
     "output_type": "execute_result"
    }
   ],
   "source": [
    "top5_compare('movie')"
   ]
  },
  {
   "cell_type": "code",
   "execution_count": 31,
   "metadata": {},
   "outputs": [
    {
     "name": "stdout",
     "output_type": "stream",
     "text": [
      "200\n",
      "200\n",
      "Items that may be rising in sentiment include: ['Swagger', 'Maradona: Sueño bendito']\n",
      "    Items that may be diminishing in sentiment include: ['La Casa de Papel', 'You']\n",
      "    \n"
     ]
    },
    {
     "data": {
      "text/plain": [
       "{'rising': ['Swagger', 'Maradona: Sueño bendito'],\n",
       " 'sinking': ['La Casa de Papel', 'You']}"
      ]
     },
     "execution_count": 31,
     "metadata": {},
     "output_type": "execute_result"
    }
   ],
   "source": [
    "top5_compare('tv')"
   ]
  },
  {
   "cell_type": "code",
   "execution_count": 32,
   "metadata": {},
   "outputs": [
    {
     "name": "stdout",
     "output_type": "stream",
     "text": [
      "200\n",
      "200\n",
      "Items that may be rising in sentiment include: ['Nicolas Cage', 'M. Night Shyamalan', 'Valdimar Jóhannsson']\n",
      "    Items that may be diminishing in sentiment include: ['Alec Baldwin', 'Tom Hanks', 'Bruce Willis']\n",
      "    \n"
     ]
    },
    {
     "data": {
      "text/plain": [
       "{'rising': ['Nicolas Cage', 'M. Night Shyamalan', 'Valdimar Jóhannsson'],\n",
       " 'sinking': ['Alec Baldwin', 'Tom Hanks', 'Bruce Willis']}"
      ]
     },
     "execution_count": 32,
     "metadata": {},
     "output_type": "execute_result"
    }
   ],
   "source": [
    "top5_compare('person')"
   ]
  },
  {
   "cell_type": "code",
   "execution_count": null,
   "metadata": {},
   "outputs": [],
   "source": []
  }
 ],
 "metadata": {
  "kernelspec": {
   "display_name": "lhl_env",
   "language": "python",
   "name": "lhl_env"
  },
  "language_info": {
   "codemirror_mode": {
    "name": "ipython",
    "version": 3
   },
   "file_extension": ".py",
   "mimetype": "text/x-python",
   "name": "python",
   "nbconvert_exporter": "python",
   "pygments_lexer": "ipython3",
   "version": "3.8.12"
  }
 },
 "nbformat": 4,
 "nbformat_minor": 4
}
